{
 "cells": [
  {
   "cell_type": "markdown",
   "metadata": {},
   "source": [
    "# Modelleringsprosjekt\n",
    "\n",
    "###### Sofia Håbrekke, 2E\n"
   ]
  },
  {
   "cell_type": "markdown",
   "metadata": {},
   "source": [
    "# 1. Hensikt\n",
    "Hensikten med oppgaven er å utforske forskjellige modeller for tempratur og varmeinnstråling. "
   ]
  },
  {
   "cell_type": "markdown",
   "metadata": {},
   "source": [
    "# Teori \n",
    "\n",
    "##  1\n",
    "\n",
    "### Gjennomsnittlig varmestråling vertikalt på jorda\n",
    "I oppgave 1 skal vi finne gjennomsnittlig vertikal stråling på jorda. Dette kan vi gjøre ved bruk av Stefan boltzmanns lov. Denne loven gjør det mulig å regne ut hvor mye varmestråling et objekt sender ut, ved å bruke tempraturen. \n",
    "\n",
    "$ $\n",
    "$ \\textrm{Stefan - Boltzmanns lov} $\n",
    "\n",
    "Loven sier at alle gjenstander som har en tempratur over absolutt nullpunkt (-273.15 C/ 0 K) sender ut varmestråling, en EM-stråling som fører varme.  Det er mulig å regne ut varmestrålingen ved bruk av formelen\n",
    "\n",
    "$$S = \\sigma T^4 $$\n",
    "\n",
    "der $\\sigma$ er Stefan - Boltzmanns konstant og tilsvarer $5.6703 \\cdot 10^{-8} W / ( m^2 K^4 )$ og tempraturen \"T\" er målt i Kelvin. Strålingen S\" er strålingen fra et legme målt i $W/m^2$ og man må tenke på arealet til legmet for å få den fullstendige strålingen\n",
    "\n",
    "$$ $$\n",
    "$ \\textrm{Kalkulering av gjennomsnittlig EM-stråling som treffer vertikalt på jorda} $\n",
    "\n",
    "Når vi skal kalkulere gjennomsnittlig vertikal stråling på jorda kan vi bruke en formel som bruker solens varmestråling og distansen mellom sola og planeten i solsystemet. Formelen ser slik ut:\n",
    "\n",
    "$$ S = \\frac{radius_{sol}^2}{distanse_{\\textrm{sol og planet}}^2} \\cdot \\textrm{varmestråling sol} $$\n",
    "\n",
    "her ser vi S som gjennomsnittlig stråling som treffer planeten i $W/m^2$\n",
    "\n",
    "Vi kan bruke Stefan - Boltzmanns lov til å regne ut hvor mye varmestråling sola gir av seg, og formelen for vertikal stråling til å regne ut hvor mye som gjennomsnittlig varmestråling som treffer vertikalt på jordens atmosfære"
   ]
  },
  {
   "cell_type": "markdown",
   "metadata": {},
   "source": [
    "##  2\n",
    "### Gjennomsnittlig tempratur, med albedo\n",
    "\n",
    "For å lage et utrykk for gjennomsnittlig tempratur for jorda kan vi bruke både energiprinsippet og Stefan- Boltzmanns lov. \n",
    "\n",
    "$$ $$\n",
    "$ \\textrm{Energiprinsippet} $\n",
    "\n",
    "energiprinsippet siier at energi er konstant, det kan ikke forsvinne eller skapes, det sier også at\n",
    "\n",
    "$$ Energi_{inn} = Energi_{ut} $$\n",
    "\n",
    "Vi kaller innstrålingen $K_s$\n",
    "\n",
    "\n",
    "$K_s = \\sigma T^4 $\n",
    "\n",
    "Siden vi skal regne med refleksjonen/ albdoen og at $energi_{inn} = energi_{ut}$ må vi gange strålingnen med $(1-albedo)$\n",
    "\n",
    "$K_s \\cdot (1-albedo) = \\sigma T^4 $\n",
    "\n",
    "Vi deler også innstrålingen på 4 for å ta i betrakning at sola ikke skinner vertikale stråler inn på jorda hele dagen, og at den ikke skinner likt på alle steder på jorda, for å få en mer realistisk modell\n",
    "\n",
    "$\\frac{K_s \\cdot (1-albedo)}{4} = \\sigma T^4 $\n",
    "\n",
    "\n",
    "$ \\textrm{Om vi snur på likningen får vi :} $\n",
    "\n",
    "$$ T = \\sqrt[4]{\\frac{K_s \\cdot (1-abedo)}{4\\sigma}} $$"
   ]
  },
  {
   "cell_type": "markdown",
   "metadata": {},
   "source": [
    "##  3\n",
    "### Forenklet atmosfære\n",
    "$$ \\textrm{Energiprinsippet} $$\n",
    "- Energi kan ikke skapes eller forsvinne. \n",
    "- Planeter er et lukket system som får tilført energi fra verdensrommet, bla sola\n",
    "- Planetene sender også ut stråling, og dette kan gi tre muligheter ;\n",
    "\n",
    "\n",
    "1. $ Energi_{inn} = Energi_{ut} $, planetens tempratur er konstant\n",
    "2. $ Energi_{inn} < Energi_{ut} $, planetens tempratur minker med tid\n",
    "3. $ Energi_{inn} > Energi_{ut} $, planetens tempratur øker med tid\n",
    "\n",
    "Vi må også minne oss selv på at ingen av disse er faktisk sanne, men kun en forenkling. \n",
    "\n",
    "$ $\n",
    "$$ \\textrm{Forenklet atmosfære} $$\n",
    "- Pga atmosfæren har vi positiv tempratur på jorda\n",
    "- For å tegne en forenklet atmosfære kan vi tenke på 3 antagelser \n",
    "\n",
    "\n",
    "1. Atmosfæren har konstant tempratur, dvs at hele atmosfæren er en stor blokk med samme tempratur\n",
    "2. Atmosfæren er fullstendig gjennomsiktig for stråling fra jorden, dvs at all stråling fra solen treffer jordoverflaten\n",
    "3. atmosfæren tar inn all stråling fra jorden\n",
    "\n",
    "selvfælgelig vet vi at alle disse ikke er sanne i virkeligheten, men de er nyttige når vi skal lage en modell for en atmosfære \n",
    "\n",
    "Vi antar at strålingen går rett gjennom atmosfæren og treffer jordoverflaten, jorden reflekterer all varmestråling, og atmosfæren vil sende ut litt stråling til verdensrommet, og litt reflekteres tilbake til jorda. \n",
    "\n",
    "\n",
    "$$ $$\n",
    "$ \\textrm{Stefan- Boltzmanns lov} $\n",
    "\n",
    "$S = \\sigma T^4 $\n",
    "\n",
    "Når vi skla bruke Stefan - Boltzmanns lov i denne modellen skal den gjelde for både jordkloden og atmosfæren\n",
    "\n",
    "#### Modellen\n",
    "\n",
    "vi har to modeller der vi antar at $energi_{inn} = energi_{ut}$\n",
    "\n",
    "- det ene systemet er varmestråling fra solen inn i systemet, og varmestråling ut av systemet fra atmosfæren til verdensrommet\n",
    "- det andre systemet vil være varmestråling som treffer jordoverflaten og varmestråling ut fra jordoverflaten\n",
    "\n",
    "- bruk Stefan - Boltzmanns lov varmestråling fra jorden og atmosfæren \n",
    "- lag et likningsystem med to ukjente og løs for tempraturen ved jordoverflaten"
   ]
  },
  {
   "cell_type": "markdown",
   "metadata": {},
   "source": [
    "### Likningsystem \n",
    "\n",
    "for å regne ut tempraturen må vi sette opp et likningsystem med 2 ukjente, og finne $T_s$\n",
    "\n",
    "#### System 1 :\n",
    "\n",
    "I system 1 tar vi for oss energibevaringsloven, og pilene 1 og 2, ut. \n",
    "Pil 1 er det eneste som går inn i likningsystemet, og pil 2(ut) er den eneste som går ut, derfor må de være like store. \n",
    "\n",
    "$ $\n",
    "siden $energi_{inn} = energi_{ut}$ er $Pil_1 = Pil_2 (ut)$\n",
    "\n",
    "$ S_{a} = \\sigma T_{a}^4 $\n",
    " \n",
    "$ S_{a} = s0 \\cdot (1-albedo) $\n",
    "\n",
    "da ender vi opp med : \n",
    "\n",
    "$ s0 \\cdot (1-albedo) = \\sigma T_{a}^4  $\n",
    "\n",
    "\n",
    "$$ $$\n",
    "#### System 2 :\n",
    "\n",
    "$ S_{inn + reflektert} = T_{sum}^4 $\n",
    "\n",
    "$ S_{\\textrm{inn + reflektert}} = S_{inn} + S_{reflektert} $\n",
    "\n",
    "$$ $$\n",
    "som sett i forrige likning, pga energibevaringsloven må $ energi_{inn} = energi_{ut} $, og derfor må også energien inn i systemet være lik energien til pil 2, eller: \n",
    "\n",
    "$$ $$\n",
    "$ S_{inn} = s0 \\cdot (1-albedo) $\n",
    "\n",
    "siden  $ energi_{inn} = energi_{ut} $ må både pil 2 (inn) og pil 2 (ut) være like store : \n",
    "\n",
    "$ S_{reflektert} = \\sigma T_{a}^4 $\n",
    "\n",
    "derfor må : \n",
    "\n",
    "$ s0 \\cdot (1-albedo) + \\sigma T_{a}^4 =  \\sigma T_{sum}^4 $\n",
    "\n",
    "\n",
    "### Ferdig likningsystem \n",
    "\n",
    "$\\textrm{I:   } s0 \\cdot (1-albedo) = \\sigma T_{a}^4  $\n",
    "\n",
    "$\\textrm{II:  } s0 \\cdot (1-albedo) + \\sigma T_{a}^4 =  \\sigma T_{sum}^4 $\n",
    "\n",
    "$$ $$\n",
    "$$ \\textrm{ deretter setter jeg system I inn i system II} $$\n",
    "\n",
    "$$ $$\n",
    "$\\textrm{II : }$ \n",
    "\n",
    "$ s0 \\cdot (1-albedo) + \\sigma T_{a}^4 =  \\sigma T_{s}^4 $\n",
    "    \n",
    "$ 2 \\cdot (s0 \\cdot (1-albedo)) = \\sigma T_s^4 $\n",
    "\n",
    "$$ $$\n",
    "$\\textrm{vi snur likningen og ender opp med : }$\n",
    "\n",
    "$ T_s = \\sqrt[4]{\\frac{2 \\cdot s0 \\cdot (1-albedo)}{\\sigma}} $"
   ]
  },
  {
   "cell_type": "markdown",
   "metadata": {},
   "source": [
    "# Modeller\n",
    "\n",
    "## Modell 1"
   ]
  },
  {
   "cell_type": "code",
   "execution_count": 63,
   "metadata": {},
   "outputs": [
    {
     "name": "stdout",
     "output_type": "stream",
     "text": [
      "gjennomnsittlig vertikal varmeinnstråling til jorda er 1365.9483611810128\n"
     ]
    }
   ],
   "source": [
    "from pylab import*\n",
    "\n",
    "\n",
    "sigma = 5.67e-8                   # målt i w/m^2K^4\n",
    "\n",
    "temp_sol = 5778                   # tempratur av sola, målt i Kelvin              \n",
    "diameter_sol = 1391016e3          # diameter av sola, målt i m\n",
    "radius_sol = (1391016e3)/2        # radius til sola, målt i m\n",
    "distanse_sol_jord = 149600000e3   # distanse mellom sola og jorda, målt i m\n",
    "\n",
    "radius_jord = 6371e3              # radius til jorda, måt i m \n",
    "albedo = 0.3                      # albedo/refelksjonstall\n",
    "\n",
    "\n",
    "# Definerer funksjonen for varmestråling fra sola\n",
    "def varmestråling(temp):\n",
    "    return sigma*(temp**4)\n",
    "    \n",
    "\n",
    "# Funksjon for gjennomsnittlig varmestråling som treffer jorda\n",
    "def vertikalstråling(r, d, v):\n",
    "    return ((r**2)*v)/(d**2)\n",
    "\n",
    "    \n",
    "varmestråling_sol = varmestråling(temp_sol)\n",
    "vertikal_stråling = vertikalstråling(radius_sol, distanse_sol_jord, varmestråling_sol)\n",
    "\n",
    "print('gjennomnsittlig vertikal varmeinnstråling til jorda er', vertikal_stråling)"
   ]
  },
  {
   "cell_type": "markdown",
   "metadata": {},
   "source": [
    "## Modell 2"
   ]
  },
  {
   "cell_type": "code",
   "execution_count": 64,
   "metadata": {},
   "outputs": [
    {
     "name": "stdout",
     "output_type": "stream",
     "text": [
      "gjennomsnittstempraturen er 254.81342946341994 K , eller -18.33657053658004 C\n"
     ]
    }
   ],
   "source": [
    "varmestråling = 1365.9483      # jordas vertikal innstråling, som gitt i forrige oppg\n",
    "albedo = 0.3                   # albedo/refelksjonstall\n",
    "sigma = 5.67e-8                # målt i w/m^2K^4\n",
    "\n",
    "\n",
    "\n",
    "# funksjon for tempraturen (stefan- boltzmanns lov)\n",
    "def Tempratur(s0):\n",
    "    return ((s0*(1-albedo))/(4*sigma))**(1/4)\n",
    "\n",
    "\n",
    "varmestråling_atmosfære = sum_stråling(varmestråling)\n",
    "g_temp = Tempratur(varmestråling)\n",
    "\n",
    "\n",
    "print('gjennomsnittstempraturen er', g_temp,'K',\n",
    "     ', eller', g_temp-273.15, 'C')"
   ]
  },
  {
   "cell_type": "markdown",
   "metadata": {},
   "source": [
    "## Modell 3"
   ]
  },
  {
   "cell_type": "code",
   "execution_count": 65,
   "metadata": {},
   "outputs": [
    {
     "name": "stdout",
     "output_type": "stream",
     "text": [
      "jordoverflatetempraturen er 428.54339878859014 K , eller 155.39339878859016 C\n"
     ]
    }
   ],
   "source": [
    "varmestråling = 1365.9483      # jordas vertikal innstråling, som gitt i forrige oppg\n",
    "albedo = 0.3                   # albedo/refelksjonstall\n",
    "sigma = 5.67e-8                # målt i w/m^2K^4\n",
    "\n",
    "def T_s(s0):\n",
    "    return (2*(s0*(1-albedo))/sigma)**(1/4)\n",
    "\n",
    "tempratur_jordoverflate = T_s(varmestråling)\n",
    "\n",
    "print('jordoverflatetempraturen er', tempratur_jordoverflate,'K',\n",
    "     ', eller', tempratur_jordoverflate-273.15, 'C')"
   ]
  },
  {
   "cell_type": "markdown",
   "metadata": {},
   "source": [
    "## Modell 4/5?"
   ]
  },
  {
   "cell_type": "code",
   "execution_count": 66,
   "metadata": {},
   "outputs": [
    {
     "name": "stdout",
     "output_type": "stream",
     "text": [
      "jordoverflatetempraturen er 303.025943316143 K , eller 29.875943316143037 C\n"
     ]
    }
   ],
   "source": [
    "varmestråling = 1365.9483      # jordas vertikal innstråling, som gitt i forrige oppg\n",
    "albedo = 0.3                   # albedo/refelksjonstall\n",
    "sigma = 5.67e-8                # målt i w/m^2K^4\n",
    "\n",
    "def T_s(s0):\n",
    "    return (2*(s0*(1-albedo))/sigma)**(1/4)\n",
    "\n",
    "tempratur_jordoverflate = T_s((varmestråling/4))\n",
    "\n",
    "print('jordoverflatetempraturen er', tempratur_jordoverflate,'K',\n",
    "     ', eller', tempratur_jordoverflate-273.15, 'C')"
   ]
  },
  {
   "cell_type": "markdown",
   "metadata": {},
   "source": [
    "## Modell 5/6?"
   ]
  },
  {
   "cell_type": "code",
   "execution_count": 67,
   "metadata": {},
   "outputs": [
    {
     "data": {
      "image/png": "[encoded data removed]",
      "text/plain": [
       "<Figure size 432x288 with 1 Axes>"
      ]
     },
     "metadata": {
      "needs_background": "light"
     },
     "output_type": "display_data"
    }
   ],
   "source": [
    "tempratur = []\n",
    "tid = []\n",
    "\n",
    "for i in range (12):\n",
    "    tid.append(i)\n",
    "    tempratur.append(18)\n",
    "\n",
    "    \n",
    "plot( tid, tempratur, color ='red')\n",
    "\n",
    "xlabel('månder')\n",
    "ylabel('tempratur')\n",
    "\n",
    "grid()\n",
    "show()"
   ]
  },
  {
   "cell_type": "markdown",
   "metadata": {},
   "source": [
    "# Diskusjon"
   ]
  },
  {
   "cell_type": "markdown",
   "metadata": {},
   "source": [
    "## Oppgave 1\n",
    "\n",
    "$\\textrm{Hvorfor fungerer denne modellen ? }$\n",
    "\n",
    "Modellen fungerer fordi vi får et realistisk mål på solens utstråling samt hvor mye av de som faktisk treffer vertikalt på jordens atmosfære. Modellen tar i betrakning variabler som hvor stort objektet som gir ut varmestrålinger, sola, er, samt hvor stor distanse den er fra jorda. \n",
    "\n",
    "Ved å se på formelen alene ser vi at strålingen øker omvendt proposjonalt med distansen fra planeten. Dette er sant fodi jo lenger unna sola vi er, jo svakere er varmestrålingen, og 'strålene' er mer spredt ut enn når planeten er nermere. \n",
    "\n",
    "Strålingen øker også proposjonalt med størrelsen (radiusen) til sola. Jo større sola er, jo mer varme sender den ut, og derfor kan vi også se at dette aspektet ved modellen er riktig\n"
   ]
  },
  {
   "cell_type": "markdown",
   "metadata": {},
   "source": [
    "## Oppgave 2\n",
    "\n",
    "$ \\textrm{ Hvorfor kan vi anta at planeten er en flat sirkel?}$\n",
    "\n",
    "Vi kan anta at planeten er en flat sirkel fordi v bruker en forenklet modell, og i den bruker vi en utregning som forteller oss den vertikale innstrålingen på jorda. Vi tar også med a vi deler innstrålingen på 4 for å få en mer riktig beregning. \n",
    "\n",
    "$ $\n",
    "$ \\textrm{Resultat }$ \n",
    "\n",
    "resultatet vi får, ca 254.81 K eller -18.34 C, er veldig annerledes fra det vi har observert, ca 15 C. Dette kan være fordi vi ikke tar for oss de mange variablene. I Oppgave 3 tar vi med en mer detaljert modell for atmosfæren der vi tar med innstrålingen, samt refelksjonen, og ikke refelksjonen/innstrålingen alene. "
   ]
  },
  {
   "cell_type": "markdown",
   "metadata": {},
   "source": [
    "## Oppgave 3\n",
    "\n",
    "$ \\textrm{ Hvordan påvirket den nye modellen resultatet?} $\n",
    "\n",
    "I oppgave 3 lager vi et nytt likningsystem som gir en tempratur i overkant av 155 C. Tempraturen er allt for høy, dette kan være for en av mange mulige grunner. En av dem er at vi ikke tok for oss at ikke hele planeten får like sterk, vertikal stråling hele året rundt, slik som det er nærme ekvator. Noe annet vi ikke tok for oss er at vi ikke får varmestråling om kvelden når planeten er vendt mot sola. Vi har også regnet med at all varmeinnstråling går direkte gjennom atmosfæren, noe den ikke gjør. "
   ]
  },
  {
   "cell_type": "markdown",
   "metadata": {},
   "source": [
    "## Oppgave 4/5?\n",
    "I oppgave 3 ser vi at jordoverflatetempraturen er veldig høy, og dette kan være mange grunner til, bla;\n",
    "\n",
    "- Vi har regnet med at alle solstrålene går direkte på jorda, slik de gjør ved ekvator, men for hele jorda.\n",
    "- Vi har regnet med at alle varmeinnstrålingne går direkte gjennom atmosfæren\n",
    "- Vi regner med at $energi_{inn} = energi_{ut}$\n",
    "- Vi regner med at all energi er reflektert av jordoverflaten\n",
    "\n",
    "siden vi har dag og natt, og sola ikke hele tiden skinner vertikalt på jorda prøver vi å dele s0 på 4, slik at:\n",
    "\n",
    "$2 \\cdot (\\frac{s0}{4} \\cdot (1-albedo)) = \\sigma T_s^4 $\n",
    "\n",
    "$ T_s = \\sqrt[4]{\\frac{2 \\cdot s0 \\cdot (1-albedo)}{4\\sigma}} $\n"
   ]
  },
  {
   "cell_type": "markdown",
   "metadata": {},
   "source": [
    "\n",
    "om vi prøver med det slik er tempraturen lik ca 30 C, dette ligner mer på det som har vært observert, mellom 10 og 25 C, men er ikke helt riktig heller. andre forslag til endringer jeg har er :\n",
    "\n",
    "- regne med at varmestrålingen ikke treffer vertikalt alle steder, og er svakere nermere nord, dvs regne med at jorda er rund. \n",
    "- regne med at en prosentdel av varmestrålingen ikke kommer inn i atmosfæren, men dette er være vanskelig å sette inn i koden fordi jeg ikke vet hvor stor den prosentandelen er. \n",
    "\n"
   ]
  },
  {
   "attachments": {},
   "cell_type": "markdown",
   "metadata": {},
   "source": [
    "## Oppgave 5/6\n",
    "\n",
    "I den siste oppgaven viste jeg ikke helt hvordan å gå fram, så jeg fant en by nær ekvator og så at gjennomsnittstempraturen hver månde gjennom hele året varierte nesten ingenting fra månde til månde. Tempraturen forandrer seg ikke mye fra sesong til sesong slik den gjør i norge, eller andre steder som ikke er nær ekvator. Dette er fordi energien de får inn er veldig konstant, varmestrålingen forandrer seg ikke fra sommer til vinter, slik den gjør her. Ekvator er der solstrålene kommer vertikalt inn på atmosfæren i samme styrke grad gjennom hele året, og har større forandringer mellom hver dag enn generelt mellom ukene og måndene.  \n",
    "\n",
    "jeg tok utgangspunkt i byen Quito i Ecuador. "
   ]
  },
  {
   "cell_type": "markdown",
   "metadata": {},
   "source": [
    "# Konklusjon\n",
    "\n",
    "Vi har utforsket forskjellige modeller for å finne ut tempraturen til jorda, samt forstå matematikken, teorien og tankene bak modellene. Vi har utforsket og drøftet ulike modeller med mange ulike fordeler og ulemper, riktigheter og feilkilder, med varierende kompleksitet og nøyaktighet. Ingen av modellene er fullstendig riktige, men gir et godt bilde av det hele. \n",
    "\n",
    "Vi kan nok utvide modellene og finne enda mer nøyaktighet ved å legge til ulike variabler, slik som hvor mye av varmen som blir absorbert i bakken, og lagt til i hvor sor grad av varmestråler som faktisk kommer gjennom atmosfæren "
   ]
  },
  {
   "cell_type": "code",
   "execution_count": null,
   "metadata": {},
   "outputs": [],
   "source": []
  }
 ],
 "metadata": {
  "kernelspec": {
   "display_name": "Python 3",
   "language": "python",
   "name": "python3"
  },
  "language_info": {
   "codemirror_mode": {
    "name": "ipython",
    "version": 3
   },
   "file_extension": ".py",
   "mimetype": "text/x-python",
   "name": "python",
   "nbconvert_exporter": "python",
   "pygments_lexer": "ipython3",
   "version": "3.8.3"
  }
 },
 "nbformat": 4,
 "nbformat_minor": 4
}
